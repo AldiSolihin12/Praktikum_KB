{
 "cells": [
  {
   "cell_type": "markdown",
   "id": "603377af-5021-4237-ae09-d0216f24e626",
   "metadata": {},
   "source": [
    "# POSTTEST 2 Kecerdasan Buatan\n",
    "### NIM : 2209106012\n",
    "### NAMA : Aldi Solihin\n",
    "### KELAS : A1 2022"
   ]
  },
  {
   "cell_type": "markdown",
   "id": "13a49424-7253-4b06-9e35-9e7ae2ae095e",
   "metadata": {},
   "source": [
    "### Import Paket Pandas dan Membaca Dataset\n",
    "Agar bisa menggunakan paket pandas kita  perlu melakukan import paker terlebih dahulu, dan kita dapar mengimpor pandas sebagai pd agar lebih singkat.Setelah itu  kita deklarasikan DataFrame (df) dengan pd.read_csv untuk membaca file csv agar lebih mudah dan efisien."
   ]
  },
  {
   "cell_type": "code",
   "execution_count": null,
   "id": "7886e90a-8990-4539-85d9-7414d1699f58",
   "metadata": {},
   "outputs": [],
   "source": [
    "import pandas as pd\n",
    "df = pd.read_csv(\"ParisHousingClass.csv\")"
   ]
  },
  {
   "cell_type": "markdown",
   "id": "7ac53caf-fd6f-415a-8f41-5e0ec594d549",
   "metadata": {},
   "source": [
    "### 1. Tampilkan rata-rata, standar deviasi, nilai minimum, nilai maksimum, Q1, Q2, dan Q3 dari attribute bertipe angka\n",
    "Untuk menampilkan perhitungan statistik terebut kita hanya perlu menggunakan df.describe(), maka akan memunculkan informasi statistik dari data dengan atribut angka. Tampilan berbentuk tabel yang berisi mean(rata-rata), std(standar deviasi), min(nilai minimum), max(nilai maksimum), 25% yang berarti kuartil bawah (Q1), 50% berarti kuartil tengah (Q2), dan 75% berarti kuartil atas (Q3)."
   ]
  },
  {
   "cell_type": "code",
   "execution_count": null,
   "id": "fbd9e569-9081-43e3-9268-878413dadaf4",
   "metadata": {},
   "outputs": [],
   "source": [
    "df.describe()"
   ]
  },
  {
   "cell_type": "markdown",
   "id": "b32373b7-2ace-4936-be3f-62d9d7c94d51",
   "metadata": {},
   "source": [
    "### 2. Tampilkan 10 record pertama dari dataset dengan attribute bertipe angka\n",
    "Untuk menampilkan 10 record pertama dari dataset dengan attribute bertipe angka kita perlu memilih dahulu atribut bertipe angka dengan select_dtypes number untuk data dengan tipe angka, kemudian .head(10) untuk menampilkan 10 record pertama."
   ]
  },
  {
   "cell_type": "code",
   "execution_count": null,
   "id": "91f5709e-9ac6-4d17-9860-c1fda1fb084c",
   "metadata": {
    "scrolled": true
   },
   "outputs": [],
   "source": [
    "df.select_dtypes([\"number\"]).head(10)"
   ]
  },
  {
   "cell_type": "markdown",
   "id": "854bda3a-d58c-444d-8ef5-93084a7d36f4",
   "metadata": {},
   "source": [
    "### 3. Tampilkan informasi jumlah record, jumlah attribute, nama attribute, jumlah attribute dengan tipe angka. \n",
    "#### Kita diminta memasukkan informasi tersebut dalam dictionary dengan key sesuai nama informasinya dan menampilkan isi dari dictionary tersebut sebagus mungkin.\n",
    "Pertama-tama kita deklarasikan beberapa variabel yang nantinya akan dimasukkan ke dalam dictionary. Untuk mengetahui jumlah record kita dapat menggunakan len(df), dan jika ingin mengetahui banyak atribut gunakan  len(df.columns) yang akan menghitung panjang/banyak kolom. Kemudian untuk mengetahui nama semua atribut gunakan df.columns. Lalu untuk mengetahui jumlah atribut  dengan tipe angka gunakan len lalu select_dtypes[\"number\"].columns untuk memilih atribut dengan tipe angka."
   ]
  },
  {
   "cell_type": "code",
   "execution_count": null,
   "id": "80bdb801-d562-48cd-b8d2-3aadc4746dd2",
   "metadata": {},
   "outputs": [],
   "source": [
    "jumlah_record = len(df)\n",
    "jumlah_attribute = len(df.columns)\n",
    "nama_attribute = list(df.columns)\n",
    "attribute_angka = len(df.select_dtypes([\"number\"]).columns)\n",
    "\n",
    "dict = {\n",
    "    'Jumlah Record': jumlah_record,\n",
    "    'Jumlah Attribute': jumlah_attribute,\n",
    "    'Nama Attribute': nama_attribute,\n",
    "    'Jumlah Attribute Tipe Angka': attribute_angka\n",
    "}\n",
    "\n",
    "print(\"======================================\")\n",
    "print(\"|          Informasi Dataset         |\")\n",
    "print(\"======================================\")\n",
    "for key, value in dict.items():\n",
    "    if isinstance(value, int):\n",
    "        print(f\" {key} : {value} \")\n",
    "    elif isinstance(value, list):\n",
    "        i = 1\n",
    "        print(f\" {key} :\")\n",
    "        for item in value:\n",
    "            print(f\"  {i}. {item} \")\n",
    "            i += 1\n",
    "    print(\"--------------------------------------\")"
   ]
  },
  {
   "cell_type": "markdown",
   "id": "08de58b3-7a5b-4f88-918f-1a251e949c9b",
   "metadata": {},
   "source": [
    "### 4. Tampilkan nilai dataset pada baris dimulai dengan 3 digit NIM akhir hingga data terakhir dan kolom ke 4 hingga kolom terakhir menggunakan ke 2 metode slice.\n",
    "### NIM : 012 -> 12"
   ]
  },
  {
   "cell_type": "markdown",
   "id": "77240b13-88dd-4e09-904f-64ee539dbe1a",
   "metadata": {},
   "source": [
    "Untuk metode slice pertama menggunakan loc. Yaitu df.loc[12:,\"hasPool\":] . 12: pada kode tersebut artinya akan menampilkan baris ke 12 sampai baris terakhir dan \"hasPool\": yang merupakan kolom ke-4 akan menampilkan sampai kolom terakhir. Tanda titik dua (:) setelah angka dan nama kolom artinya akan menampilkan semua baris/kolom setelahnya."
   ]
  },
  {
   "cell_type": "code",
   "execution_count": null,
   "id": "edabe53e-399f-4310-a721-e34f1ef53098",
   "metadata": {},
   "outputs": [],
   "source": [
    "df.loc[12:,\"hasPool\":]"
   ]
  },
  {
   "cell_type": "markdown",
   "id": "5967d3d8-36ca-457c-8186-1df27198246c",
   "metadata": {},
   "source": [
    "Untuk metode slice kedua menggunakan iloc. Yaitu df.iloc[12:,3:] . 12: pada kode tersebut artinya akan menampilkan baris ke 12 sampai baris terakhir dan 3: yang merupakan kolom ke-4 (index ke-3) akan menampilkan sampai kolom terakhir. Tanda titik dua (:) setelah angka artinya akan menampilkan semua baris/kolom setelahnya."
   ]
  },
  {
   "cell_type": "code",
   "execution_count": null,
   "id": "be847d44-ded3-4292-b4af-ee1ebc410732",
   "metadata": {},
   "outputs": [],
   "source": [
    "df.iloc[12:,3:]"
   ]
  },
  {
   "cell_type": "markdown",
   "id": "cfb04f65-42ef-4320-917f-cee4dda1bca5",
   "metadata": {},
   "source": [
    "### 5. Tampilkan jumlah nilai dari semua attribute yang bernilai object (contoh : Jenis Kelamin, Agama).\n",
    "Pertama kita harus memilih semua atribut dengan tipe object terlebih dahulu, yaitu dengan menggunakan select_dtypes[\"object\"] kemudian diikuti dengan .value_counts() untuk mengetahui jumlah nilainya. Pada output kita dapat mengetahui  jumlah kategori \"Basic\" adalah 8735 dan kategori \"Luxury\" adalah 1265."
   ]
  },
  {
   "cell_type": "code",
   "execution_count": null,
   "id": "1513f34e-f3e8-4781-a561-c728957c7c09",
   "metadata": {},
   "outputs": [],
   "source": [
    "df.select_dtypes([\"object\"]).value_counts()"
   ]
  }
 ],
 "metadata": {
  "kernelspec": {
   "display_name": "Python 3 (ipykernel)",
   "language": "python",
   "name": "python3"
  },
  "language_info": {
   "codemirror_mode": {
    "name": "ipython",
    "version": 3
   },
   "file_extension": ".py",
   "mimetype": "text/x-python",
   "name": "python",
   "nbconvert_exporter": "python",
   "pygments_lexer": "ipython3",
   "version": "3.10.7"
  }
 },
 "nbformat": 4,
 "nbformat_minor": 5
}
