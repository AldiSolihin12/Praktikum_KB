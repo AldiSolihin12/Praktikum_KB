{
 "cells": [
  {
   "cell_type": "markdown",
   "metadata": {},
   "source": [
    "# POSTTEST 4 Kecerdasan Buatan\n",
    "### NIM : 2209106012\n",
    "### NAMA : Aldi Solihin\n",
    "### KELAS : A1 2022"
   ]
  },
  {
   "cell_type": "markdown",
   "metadata": {},
   "source": [
    "### Import Paket Pandas dan Membaca Dataset\n",
    "Agar bisa menggunakan paket pandas kita  perlu melakukan import paket terlebih dahulu, dan kita dapar mengimpor pandas sebagai pd agar lebih singkat. Kemudian dari sklearn.model_selection kita mengimport train_test_split untuk membagi dataset. Setelah itu  kita deklarasikan DataFrame (df) dengan pd.read_csv untuk membaca file csv agar lebih mudah dan efisien."
   ]
  },
  {
   "cell_type": "code",
   "execution_count": 1,
   "metadata": {},
   "outputs": [],
   "source": [
    "import pandas as pd\n",
    "from sklearn.model_selection import train_test_split"
   ]
  },
  {
   "cell_type": "code",
   "execution_count": 2,
   "metadata": {},
   "outputs": [],
   "source": [
    "df = pd.read_csv(\"ParisHousingClassNULL.csv\")"
   ]
  },
  {
   "cell_type": "markdown",
   "metadata": {},
   "source": [
    "### Bagi Training set dan Testing set dengan perbandingan 70 : 30\n",
    "pada bagian ini saya membagi dataset menjadi training set dan testing set dengan proporsi 70 : 30 dengan menggunakan test_size = 0.3"
   ]
  },
  {
   "cell_type": "code",
   "execution_count": 3,
   "metadata": {},
   "outputs": [],
   "source": [
    "X = df.iloc[:,:-1]\n",
    "Y = df.iloc[:,-1]"
   ]
  },
  {
   "cell_type": "code",
   "execution_count": 4,
   "metadata": {},
   "outputs": [],
   "source": [
    "X_train, X_test, Y_train, Y_test = train_test_split(X, Y, test_size=0.3)"
   ]
  },
  {
   "cell_type": "code",
   "execution_count": 5,
   "metadata": {},
   "outputs": [
    {
     "name": "stdout",
     "output_type": "stream",
     "text": [
      "Dimensi X_train : (7000, 17)\n",
      "Dimensi X_test  : (3000, 17)\n",
      "Dimensi Y_train : (7000,)\n",
      "Dimensi Y_test  : (3000,)\n"
     ]
    }
   ],
   "source": [
    "print(\"Dimensi X_train :\", X_train.shape)\n",
    "print(\"Dimensi X_test  :\", X_test.shape)\n",
    "print(\"Dimensi Y_train :\", Y_train.shape)\n",
    "print(\"Dimensi Y_test  :\", Y_test.shape)"
   ]
  },
  {
   "cell_type": "markdown",
   "metadata": {},
   "source": [
    "- X_train : Untuk menampung data source yang akan dilatih.\n",
    "- X_test : Untuk menampung data target yang akan dilatih.\n",
    "- Y_train : Untuk menampung data source yang akan digunakan untuk testing.\n",
    "- Y_test : Untuk menampung data target yang akan digunakan untuk testing.\n",
    "- test_size : Mendefinisikan ukuran testing set (0.3 = 30% dari seluruh dataset) dan ukuran train set akan otomatis 0.7 atau 70% dari seluruh dataset"
   ]
  },
  {
   "cell_type": "markdown",
   "metadata": {},
   "source": [
    "## Data Transformation\n",
    "Pada transformasi data, kita mengubah skala data kedalam bentuk lain sehingga data memiliki distribusi yang diharapkan. \n",
    "### 1. Normalisasi\n",
    "Pada bagian ini kita menggunakan teknik penskalaan standarisasi sehingga memiliki dimensi [0, 1]"
   ]
  },
  {
   "cell_type": "markdown",
   "metadata": {},
   "source": [
    "Pertama-tama kita import MinMaxScaler terlebih dahulu dari sklearn.preprocessing. Kemudian kita akan mengecek tipe data dari tiap kolom. Lalu kita deklrasikan mm dengan value MinMaxScaler(). Selanjutnya, kita akan mengcopy dataset terlebih dahulu."
   ]
  },
  {
   "cell_type": "code",
   "execution_count": 6,
   "metadata": {},
   "outputs": [],
   "source": [
    "from sklearn.preprocessing import MinMaxScaler"
   ]
  },
  {
   "cell_type": "code",
   "execution_count": 7,
   "metadata": {},
   "outputs": [
    {
     "data": {
      "text/plain": [
       "squareMeters         float64\n",
       "numberOfRooms          int64\n",
       "hasYard                int64\n",
       "hasPool                int64\n",
       "floors                 int64\n",
       "cityCode               int64\n",
       "cityPartRange          int64\n",
       "numPrevOwners          int64\n",
       "made                   int64\n",
       "isNewBuilt             int64\n",
       "hasStormProtector      int64\n",
       "basement               int64\n",
       "attic                  int64\n",
       "garage                 int64\n",
       "hasStorageRoom         int64\n",
       "hasGuestRoom           int64\n",
       "price                float64\n",
       "category              object\n",
       "dtype: object"
      ]
     },
     "execution_count": 7,
     "metadata": {},
     "output_type": "execute_result"
    }
   ],
   "source": [
    "df.dtypes"
   ]
  },
  {
   "cell_type": "code",
   "execution_count": 8,
   "metadata": {},
   "outputs": [],
   "source": [
    "mm = MinMaxScaler()\n",
    "df_copy = df.copy()\n",
    "df_copy[['squareMeters','numberOfRooms','price']] = mm.fit_transform(df_copy[['squareMeters','numberOfRooms','price']])"
   ]
  },
  {
   "cell_type": "code",
   "execution_count": 9,
   "metadata": {},
   "outputs": [
    {
     "data": {
      "text/plain": [
       "0.0"
      ]
     },
     "execution_count": 9,
     "metadata": {},
     "output_type": "execute_result"
    }
   ],
   "source": [
    "df_copy['squareMeters'].min()"
   ]
  },
  {
   "cell_type": "code",
   "execution_count": 10,
   "metadata": {},
   "outputs": [
    {
     "data": {
      "text/plain": [
       "1.0"
      ]
     },
     "execution_count": 10,
     "metadata": {},
     "output_type": "execute_result"
    }
   ],
   "source": [
    "df_copy['squareMeters'].max()"
   ]
  },
  {
   "cell_type": "markdown",
   "metadata": {},
   "source": [
    "Untuk mengetahui data yang sudah kita lakukan normalisasi kita dapat menggunakan DataFrame ['nama kolom yang sudah di normalisasi'].min() / max() . Dari output kode diatas kita dapat melihat bahwa nilai max bernilai 1 dan min bernilai 0, artinya penskalaan data dengan normalisasi sudah berhasil."
   ]
  },
  {
   "cell_type": "markdown",
   "metadata": {},
   "source": [
    "### 2. Standarisasi\n",
    "Pada bagian ini kita menggunakan teknik penskalaan standarisasi sehingga memiliki nilai rata-rata 0 dan standar deviasi 1."
   ]
  },
  {
   "cell_type": "markdown",
   "metadata": {},
   "source": [
    "Pertama-tama kita import StandardScaler terlebih dahulu dari sklearn.preprocessing."
   ]
  },
  {
   "cell_type": "code",
   "execution_count": 11,
   "metadata": {},
   "outputs": [],
   "source": [
    "from sklearn.preprocessing import StandardScaler"
   ]
  },
  {
   "cell_type": "markdown",
   "metadata": {},
   "source": [
    "Pada bagian ini kita deklarasikan StandardScaler () sebagai ss agar lebih mudah. Kemudian kita pilih kolom yang akan di lakukan standarisasi."
   ]
  },
  {
   "cell_type": "code",
   "execution_count": 12,
   "metadata": {},
   "outputs": [],
   "source": [
    "ss = StandardScaler()\n",
    "df_copy2 = df.copy()\n",
    "df_copy2[['squareMeters','numberOfRooms','price']] = ss.fit_transform(df_copy2[['squareMeters','numberOfRooms','price']])"
   ]
  },
  {
   "cell_type": "code",
   "execution_count": 13,
   "metadata": {},
   "outputs": [
    {
     "data": {
      "text/plain": [
       "1.0000500538078747"
      ]
     },
     "execution_count": 13,
     "metadata": {},
     "output_type": "execute_result"
    }
   ],
   "source": [
    "df_copy2['price'].std()"
   ]
  },
  {
   "cell_type": "markdown",
   "metadata": {},
   "source": [
    "Untuk mengetahui data yang sudah kita lakukan standarisasi kita dapat menggunakan df['nama kolom yang sudah di standarisasi'].std() . Dari output kode diatas kita dapat melihat bahwa standar deviasi bernilai 1, artinya penskalaan data dengan standarisasi sudah berhasil."
   ]
  },
  {
   "cell_type": "markdown",
   "metadata": {},
   "source": [
    "## Data Cleaning  \n",
    "Data Cleaning adalah proses mempersiapkan data untuk analisis dengan menghapus atau memodifikasi data yang tidak benar, tidak lengkap, tidak relevan, diduplikasi, atau diformat dengan tidak benar.\n",
    "### 1. Data dengan nilai NULL\n",
    "Pada bagian ini saya akan menangani nilai null dengan melakukan subsitusi nilai. Langkah pertama kita perlu mengimport SimpleImputer dari sklearn.impute terlebih dahulu. Dan mengecek nilai NULL pada data."
   ]
  },
  {
   "cell_type": "code",
   "execution_count": 14,
   "metadata": {},
   "outputs": [],
   "source": [
    "from sklearn.impute import SimpleImputer"
   ]
  },
  {
   "cell_type": "code",
   "execution_count": 15,
   "metadata": {},
   "outputs": [
    {
     "data": {
      "text/plain": [
       "squareMeters         16\n",
       "numberOfRooms         0\n",
       "hasYard               0\n",
       "hasPool               0\n",
       "floors                0\n",
       "cityCode              0\n",
       "cityPartRange         0\n",
       "numPrevOwners         0\n",
       "made                  0\n",
       "isNewBuilt            0\n",
       "hasStormProtector     0\n",
       "basement              0\n",
       "attic                 0\n",
       "garage                0\n",
       "hasStorageRoom        0\n",
       "hasGuestRoom          0\n",
       "price                10\n",
       "category             66\n",
       "dtype: int64"
      ]
     },
     "execution_count": 15,
     "metadata": {},
     "output_type": "execute_result"
    }
   ],
   "source": [
    "# Mengecek Nilai NULL / yang kosong\n",
    "df.isna().sum()"
   ]
  },
  {
   "cell_type": "markdown",
   "metadata": {},
   "source": [
    "### Pada bagian ini kita akan mensubsitusikan nilai NULL dengan median, mean, dan modus data. \n",
    "Pertama kita deklarasikan si_median dengan strategy median, kemudian deklarasikan df dengan kolom yang akan kita subsitusikan nilai NULL nya contoh 'squareMeters' dan nilai null diisi dengan median dari kolom 'squareMeters'. Pada bagian ini saya menggunakan astype(\"int64\") karena tipe data awal 'squareMeters' adalah integer, karena ada data yang kosong / bernilai null jadi tipe data berubah ke float, sehingga kita harus mengembalikan dengan menggunakan astype."
   ]
  },
  {
   "cell_type": "code",
   "execution_count": 16,
   "metadata": {},
   "outputs": [],
   "source": [
    "si_median = SimpleImputer(strategy='median') \n",
    "df[['squareMeters']] = si_median.fit_transform(df[['squareMeters']]).astype(\"int64\")"
   ]
  },
  {
   "cell_type": "markdown",
   "metadata": {},
   "source": [
    "Deklarasikan si_mean dengan strategy mean, kemudian deklarasikan df dengan kolom yang akan kita subsitusikan nilai NULL nya contoh 'price' dan nilai null diisi dengan mean dari kolom 'price'."
   ]
  },
  {
   "cell_type": "code",
   "execution_count": 17,
   "metadata": {},
   "outputs": [],
   "source": [
    "si_mean = SimpleImputer(strategy='mean') \n",
    "df[['price']] = si_mean.fit_transform(df[['price']])"
   ]
  },
  {
   "cell_type": "markdown",
   "metadata": {},
   "source": [
    "Deklarasikan si_modus dengan strategy most_frequent (paling sering muncul / modus), kemudian deklarasikan df dengan kolom yang akan kita subsitusikan nilai NULL nya contoh 'category' dan nilai null diisi dengan modus dari kolom 'category'."
   ]
  },
  {
   "cell_type": "code",
   "execution_count": 18,
   "metadata": {},
   "outputs": [],
   "source": [
    "si_modus = SimpleImputer(strategy='most_frequent')\n",
    "df[['category']] = si_modus.fit_transform(df[['category']])"
   ]
  },
  {
   "cell_type": "markdown",
   "metadata": {},
   "source": [
    "Setelah dilakukan subsitsi nilai, kita mengecek lagi apakah sudah tidak ada nilai NULL pada dataset."
   ]
  },
  {
   "cell_type": "code",
   "execution_count": 19,
   "metadata": {},
   "outputs": [
    {
     "data": {
      "text/plain": [
       "squareMeters         0\n",
       "numberOfRooms        0\n",
       "hasYard              0\n",
       "hasPool              0\n",
       "floors               0\n",
       "cityCode             0\n",
       "cityPartRange        0\n",
       "numPrevOwners        0\n",
       "made                 0\n",
       "isNewBuilt           0\n",
       "hasStormProtector    0\n",
       "basement             0\n",
       "attic                0\n",
       "garage               0\n",
       "hasStorageRoom       0\n",
       "hasGuestRoom         0\n",
       "price                0\n",
       "category             0\n",
       "dtype: int64"
      ]
     },
     "execution_count": 19,
     "metadata": {},
     "output_type": "execute_result"
    }
   ],
   "source": [
    "df.isna().sum()"
   ]
  },
  {
   "cell_type": "markdown",
   "metadata": {},
   "source": [
    "### 2. Data dengan nilai duplikat\n",
    "Tahap pertama kita akan mengecek data yang duplikat dengan df.duplicated().sum() yang akan menghitung berapa banyak data yang duplikat."
   ]
  },
  {
   "cell_type": "code",
   "execution_count": 20,
   "metadata": {},
   "outputs": [
    {
     "data": {
      "text/plain": [
       "0"
      ]
     },
     "execution_count": 20,
     "metadata": {},
     "output_type": "execute_result"
    }
   ],
   "source": [
    "df.duplicated().sum()"
   ]
  },
  {
   "cell_type": "markdown",
   "metadata": {},
   "source": [
    "Untuk menghapus nilai duplikat kita dapat langsung menggunakan perintah drop_duplicates. Kita juga menggunakan perintah inplace=True yang artinya kita akan menimpa DataFrame yang sudah ada."
   ]
  },
  {
   "cell_type": "code",
   "execution_count": 21,
   "metadata": {},
   "outputs": [],
   "source": [
    "df.drop_duplicates(inplace=True)"
   ]
  },
  {
   "cell_type": "markdown",
   "metadata": {},
   "source": [
    "## Ganti tipe data salah satu attribute angka\n",
    "Untuk mengganti tipe data salah satu attribute angka kita dapat menggunakan perintah df['nama kolom'] = df['nama kolom'].astype('tipe data')."
   ]
  },
  {
   "cell_type": "code",
   "execution_count": 22,
   "metadata": {},
   "outputs": [
    {
     "data": {
      "text/plain": [
       "squareMeters           int64\n",
       "numberOfRooms          int64\n",
       "hasYard                int64\n",
       "hasPool                int64\n",
       "floors                 int64\n",
       "cityCode               int64\n",
       "cityPartRange          int64\n",
       "numPrevOwners          int64\n",
       "made                   int64\n",
       "isNewBuilt             int64\n",
       "hasStormProtector      int64\n",
       "basement               int64\n",
       "attic                  int64\n",
       "garage                 int64\n",
       "hasStorageRoom         int64\n",
       "hasGuestRoom           int64\n",
       "price                float64\n",
       "category              object\n",
       "dtype: object"
      ]
     },
     "execution_count": 22,
     "metadata": {},
     "output_type": "execute_result"
    }
   ],
   "source": [
    "df.dtypes"
   ]
  },
  {
   "cell_type": "code",
   "execution_count": 23,
   "metadata": {},
   "outputs": [],
   "source": [
    "df[\"price\"] = df[\"price\"].astype(\"int64\")"
   ]
  },
  {
   "cell_type": "code",
   "execution_count": 24,
   "metadata": {},
   "outputs": [
    {
     "data": {
      "text/plain": [
       "squareMeters          int64\n",
       "numberOfRooms         int64\n",
       "hasYard               int64\n",
       "hasPool               int64\n",
       "floors                int64\n",
       "cityCode              int64\n",
       "cityPartRange         int64\n",
       "numPrevOwners         int64\n",
       "made                  int64\n",
       "isNewBuilt            int64\n",
       "hasStormProtector     int64\n",
       "basement              int64\n",
       "attic                 int64\n",
       "garage                int64\n",
       "hasStorageRoom        int64\n",
       "hasGuestRoom          int64\n",
       "price                 int64\n",
       "category             object\n",
       "dtype: object"
      ]
     },
     "execution_count": 24,
     "metadata": {},
     "output_type": "execute_result"
    }
   ],
   "source": [
    "df.dtypes"
   ]
  },
  {
   "cell_type": "markdown",
   "metadata": {},
   "source": [
    "Pada output diatas kita berhasil mengubah tipe data kolom \"price\" dari float64 ke int64"
   ]
  },
  {
   "cell_type": "markdown",
   "metadata": {},
   "source": [
    "## Encoding  \n",
    "### 1. Ordinal Encoding\n",
    "Untuk melakukan ordinal encoding kita perlu mengimport OrdinalEncoder dari sklearn.preprocessing terlebih dahulu. Pada bagian ini kita akan mengubah nilai category menjadi bilangan bulat."
   ]
  },
  {
   "cell_type": "code",
   "execution_count": 25,
   "metadata": {},
   "outputs": [],
   "source": [
    "from sklearn.preprocessing import OrdinalEncoder"
   ]
  },
  {
   "cell_type": "markdown",
   "metadata": {},
   "source": [
    "Pertama kita deklarasikan OrdinalEncoder() dengan oe. Kemudian kita deklarasikan df 'category' dengan value OrdinalEncoder dari df 'category'."
   ]
  },
  {
   "cell_type": "code",
   "execution_count": 26,
   "metadata": {},
   "outputs": [],
   "source": [
    "oe = OrdinalEncoder()\n",
    "df[['category']] = oe.fit_transform(df[['category']])"
   ]
  },
  {
   "cell_type": "code",
   "execution_count": 27,
   "metadata": {},
   "outputs": [
    {
     "data": {
      "text/plain": [
       "category\n",
       "0.0    8764\n",
       "1.0    1236\n",
       "Name: count, dtype: int64"
      ]
     },
     "execution_count": 27,
     "metadata": {},
     "output_type": "execute_result"
    }
   ],
   "source": [
    "df['category'].value_counts()"
   ]
  },
  {
   "cell_type": "markdown",
   "metadata": {},
   "source": [
    "Dari output diatas kita dapat mengetahui bahwa kategori \"Basic\" berubah menjadi angka 0 dan kategori \"Luxury\" berubah menjadi angka 1."
   ]
  },
  {
   "cell_type": "markdown",
   "metadata": {},
   "source": [
    "### 2. One-Hot Encoding\n",
    "Untuk melakukan One-Hot Encoding kita perlu mengimport OneHotEncoder dari sklearn.preprocessing terlebih dahulu. Pada bagian ini kita akan mengubah nilai 'hasPool' menjadi boolean (True, False)."
   ]
  },
  {
   "cell_type": "code",
   "execution_count": 28,
   "metadata": {},
   "outputs": [],
   "source": [
    "from sklearn.preprocessing import OneHotEncoder"
   ]
  },
  {
   "cell_type": "markdown",
   "metadata": {},
   "source": [
    "Pertama kita deklarasikan OneHotEncoder() dengan ohe. Kemudian kita deklarasikan oh_encoded dengan ohe.fit_transform 'hasPool'. \n",
    "\n",
    "Kita membuat DataFrame baru yang berisi OneHotEncoder dari 'hasPool' dengan kolom 'Tidak Ada Kolam' dan 'Ada Kolam'."
   ]
  },
  {
   "cell_type": "code",
   "execution_count": 29,
   "metadata": {},
   "outputs": [
    {
     "data": {
      "text/html": [
       "<div>\n",
       "<style scoped>\n",
       "    .dataframe tbody tr th:only-of-type {\n",
       "        vertical-align: middle;\n",
       "    }\n",
       "\n",
       "    .dataframe tbody tr th {\n",
       "        vertical-align: top;\n",
       "    }\n",
       "\n",
       "    .dataframe thead th {\n",
       "        text-align: right;\n",
       "    }\n",
       "</style>\n",
       "<table border=\"1\" class=\"dataframe\">\n",
       "  <thead>\n",
       "    <tr style=\"text-align: right;\">\n",
       "      <th></th>\n",
       "      <th>Tidak Ada Kolam</th>\n",
       "      <th>Ada Kolam</th>\n",
       "    </tr>\n",
       "  </thead>\n",
       "  <tbody>\n",
       "    <tr>\n",
       "      <th>0</th>\n",
       "      <td>0.0</td>\n",
       "      <td>1.0</td>\n",
       "    </tr>\n",
       "    <tr>\n",
       "      <th>1</th>\n",
       "      <td>0.0</td>\n",
       "      <td>1.0</td>\n",
       "    </tr>\n",
       "    <tr>\n",
       "      <th>2</th>\n",
       "      <td>0.0</td>\n",
       "      <td>1.0</td>\n",
       "    </tr>\n",
       "    <tr>\n",
       "      <th>3</th>\n",
       "      <td>1.0</td>\n",
       "      <td>0.0</td>\n",
       "    </tr>\n",
       "    <tr>\n",
       "      <th>4</th>\n",
       "      <td>0.0</td>\n",
       "      <td>1.0</td>\n",
       "    </tr>\n",
       "    <tr>\n",
       "      <th>...</th>\n",
       "      <td>...</td>\n",
       "      <td>...</td>\n",
       "    </tr>\n",
       "    <tr>\n",
       "      <th>9995</th>\n",
       "      <td>0.0</td>\n",
       "      <td>1.0</td>\n",
       "    </tr>\n",
       "    <tr>\n",
       "      <th>9996</th>\n",
       "      <td>0.0</td>\n",
       "      <td>1.0</td>\n",
       "    </tr>\n",
       "    <tr>\n",
       "      <th>9997</th>\n",
       "      <td>1.0</td>\n",
       "      <td>0.0</td>\n",
       "    </tr>\n",
       "    <tr>\n",
       "      <th>9998</th>\n",
       "      <td>1.0</td>\n",
       "      <td>0.0</td>\n",
       "    </tr>\n",
       "    <tr>\n",
       "      <th>9999</th>\n",
       "      <td>1.0</td>\n",
       "      <td>0.0</td>\n",
       "    </tr>\n",
       "  </tbody>\n",
       "</table>\n",
       "<p>10000 rows × 2 columns</p>\n",
       "</div>"
      ],
      "text/plain": [
       "      Tidak Ada Kolam  Ada Kolam\n",
       "0                 0.0        1.0\n",
       "1                 0.0        1.0\n",
       "2                 0.0        1.0\n",
       "3                 1.0        0.0\n",
       "4                 0.0        1.0\n",
       "...               ...        ...\n",
       "9995              0.0        1.0\n",
       "9996              0.0        1.0\n",
       "9997              1.0        0.0\n",
       "9998              1.0        0.0\n",
       "9999              1.0        0.0\n",
       "\n",
       "[10000 rows x 2 columns]"
      ]
     },
     "execution_count": 29,
     "metadata": {},
     "output_type": "execute_result"
    }
   ],
   "source": [
    "ohe = OneHotEncoder(sparse_output=False)\n",
    "oh_encoded = ohe.fit_transform(df[['hasPool']]) \n",
    "encoded = pd.DataFrame(oh_encoded, columns=['Tidak Ada Kolam','Ada Kolam'])\n",
    "encoded"
   ]
  },
  {
   "cell_type": "markdown",
   "metadata": {},
   "source": [
    "Pada bagian dibawah ini kita menggabungkan Data Frame df dan Data Frame encoded dengan menggunakan perintah pd.concat. "
   ]
  },
  {
   "cell_type": "code",
   "execution_count": 30,
   "metadata": {},
   "outputs": [
    {
     "data": {
      "text/html": [
       "<div>\n",
       "<style scoped>\n",
       "    .dataframe tbody tr th:only-of-type {\n",
       "        vertical-align: middle;\n",
       "    }\n",
       "\n",
       "    .dataframe tbody tr th {\n",
       "        vertical-align: top;\n",
       "    }\n",
       "\n",
       "    .dataframe thead th {\n",
       "        text-align: right;\n",
       "    }\n",
       "</style>\n",
       "<table border=\"1\" class=\"dataframe\">\n",
       "  <thead>\n",
       "    <tr style=\"text-align: right;\">\n",
       "      <th></th>\n",
       "      <th>squareMeters</th>\n",
       "      <th>numberOfRooms</th>\n",
       "      <th>hasYard</th>\n",
       "      <th>hasPool</th>\n",
       "      <th>floors</th>\n",
       "      <th>cityCode</th>\n",
       "      <th>cityPartRange</th>\n",
       "      <th>numPrevOwners</th>\n",
       "      <th>made</th>\n",
       "      <th>isNewBuilt</th>\n",
       "      <th>hasStormProtector</th>\n",
       "      <th>basement</th>\n",
       "      <th>attic</th>\n",
       "      <th>garage</th>\n",
       "      <th>hasStorageRoom</th>\n",
       "      <th>hasGuestRoom</th>\n",
       "      <th>price</th>\n",
       "      <th>category</th>\n",
       "      <th>Tidak Ada Kolam</th>\n",
       "      <th>Ada Kolam</th>\n",
       "    </tr>\n",
       "  </thead>\n",
       "  <tbody>\n",
       "    <tr>\n",
       "      <th>0</th>\n",
       "      <td>50105</td>\n",
       "      <td>3</td>\n",
       "      <td>0</td>\n",
       "      <td>1</td>\n",
       "      <td>63</td>\n",
       "      <td>9373</td>\n",
       "      <td>3</td>\n",
       "      <td>8</td>\n",
       "      <td>2005</td>\n",
       "      <td>0</td>\n",
       "      <td>1</td>\n",
       "      <td>4313</td>\n",
       "      <td>9005</td>\n",
       "      <td>956</td>\n",
       "      <td>0</td>\n",
       "      <td>7</td>\n",
       "      <td>7559081</td>\n",
       "      <td>0.0</td>\n",
       "      <td>0.0</td>\n",
       "      <td>1.0</td>\n",
       "    </tr>\n",
       "    <tr>\n",
       "      <th>1</th>\n",
       "      <td>80771</td>\n",
       "      <td>39</td>\n",
       "      <td>1</td>\n",
       "      <td>1</td>\n",
       "      <td>98</td>\n",
       "      <td>39381</td>\n",
       "      <td>8</td>\n",
       "      <td>6</td>\n",
       "      <td>2015</td>\n",
       "      <td>1</td>\n",
       "      <td>0</td>\n",
       "      <td>3653</td>\n",
       "      <td>2436</td>\n",
       "      <td>128</td>\n",
       "      <td>1</td>\n",
       "      <td>2</td>\n",
       "      <td>8085989</td>\n",
       "      <td>0.0</td>\n",
       "      <td>0.0</td>\n",
       "      <td>1.0</td>\n",
       "    </tr>\n",
       "    <tr>\n",
       "      <th>2</th>\n",
       "      <td>55712</td>\n",
       "      <td>58</td>\n",
       "      <td>0</td>\n",
       "      <td>1</td>\n",
       "      <td>19</td>\n",
       "      <td>34457</td>\n",
       "      <td>6</td>\n",
       "      <td>8</td>\n",
       "      <td>2021</td>\n",
       "      <td>0</td>\n",
       "      <td>0</td>\n",
       "      <td>2937</td>\n",
       "      <td>8852</td>\n",
       "      <td>135</td>\n",
       "      <td>1</td>\n",
       "      <td>9</td>\n",
       "      <td>5574642</td>\n",
       "      <td>0.0</td>\n",
       "      <td>0.0</td>\n",
       "      <td>1.0</td>\n",
       "    </tr>\n",
       "    <tr>\n",
       "      <th>3</th>\n",
       "      <td>32316</td>\n",
       "      <td>47</td>\n",
       "      <td>0</td>\n",
       "      <td>0</td>\n",
       "      <td>6</td>\n",
       "      <td>27939</td>\n",
       "      <td>10</td>\n",
       "      <td>4</td>\n",
       "      <td>2012</td>\n",
       "      <td>0</td>\n",
       "      <td>1</td>\n",
       "      <td>659</td>\n",
       "      <td>7141</td>\n",
       "      <td>359</td>\n",
       "      <td>0</td>\n",
       "      <td>3</td>\n",
       "      <td>3232561</td>\n",
       "      <td>0.0</td>\n",
       "      <td>1.0</td>\n",
       "      <td>0.0</td>\n",
       "    </tr>\n",
       "    <tr>\n",
       "      <th>4</th>\n",
       "      <td>70429</td>\n",
       "      <td>19</td>\n",
       "      <td>1</td>\n",
       "      <td>1</td>\n",
       "      <td>90</td>\n",
       "      <td>38045</td>\n",
       "      <td>3</td>\n",
       "      <td>7</td>\n",
       "      <td>1990</td>\n",
       "      <td>1</td>\n",
       "      <td>0</td>\n",
       "      <td>8435</td>\n",
       "      <td>2429</td>\n",
       "      <td>292</td>\n",
       "      <td>1</td>\n",
       "      <td>4</td>\n",
       "      <td>7055052</td>\n",
       "      <td>0.0</td>\n",
       "      <td>0.0</td>\n",
       "      <td>1.0</td>\n",
       "    </tr>\n",
       "  </tbody>\n",
       "</table>\n",
       "</div>"
      ],
      "text/plain": [
       "   squareMeters  numberOfRooms  hasYard  hasPool  floors  cityCode  \\\n",
       "0         50105              3        0        1      63      9373   \n",
       "1         80771             39        1        1      98     39381   \n",
       "2         55712             58        0        1      19     34457   \n",
       "3         32316             47        0        0       6     27939   \n",
       "4         70429             19        1        1      90     38045   \n",
       "\n",
       "   cityPartRange  numPrevOwners  made  isNewBuilt  hasStormProtector  \\\n",
       "0              3              8  2005           0                  1   \n",
       "1              8              6  2015           1                  0   \n",
       "2              6              8  2021           0                  0   \n",
       "3             10              4  2012           0                  1   \n",
       "4              3              7  1990           1                  0   \n",
       "\n",
       "   basement  attic  garage  hasStorageRoom  hasGuestRoom    price  category  \\\n",
       "0      4313   9005     956               0             7  7559081       0.0   \n",
       "1      3653   2436     128               1             2  8085989       0.0   \n",
       "2      2937   8852     135               1             9  5574642       0.0   \n",
       "3       659   7141     359               0             3  3232561       0.0   \n",
       "4      8435   2429     292               1             4  7055052       0.0   \n",
       "\n",
       "   Tidak Ada Kolam  Ada Kolam  \n",
       "0              0.0        1.0  \n",
       "1              0.0        1.0  \n",
       "2              0.0        1.0  \n",
       "3              1.0        0.0  \n",
       "4              0.0        1.0  "
      ]
     },
     "execution_count": 30,
     "metadata": {},
     "output_type": "execute_result"
    }
   ],
   "source": [
    "df = pd.concat([df, encoded], axis=1)\n",
    "df.head()"
   ]
  }
 ],
 "metadata": {
  "kernelspec": {
   "display_name": "Python 3 (ipykernel)",
   "language": "python",
   "name": "python3"
  },
  "language_info": {
   "codemirror_mode": {
    "name": "ipython",
    "version": 3
   },
   "file_extension": ".py",
   "mimetype": "text/x-python",
   "name": "python",
   "nbconvert_exporter": "python",
   "pygments_lexer": "ipython3",
   "version": "3.10.7"
  }
 },
 "nbformat": 4,
 "nbformat_minor": 4
}
