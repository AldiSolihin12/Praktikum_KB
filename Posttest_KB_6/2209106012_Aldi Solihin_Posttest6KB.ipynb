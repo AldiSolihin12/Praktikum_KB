{
 "cells": [
  {
   "cell_type": "markdown",
   "metadata": {
    "id": "VU--3YCa6gnu"
   },
   "source": [
    "# POSTTEST 6 Kecerdasan Buatan\n",
    "### NIM : 2209106012\n",
    "### NAMA : Aldi Solihin\n",
    "### KELAS : A1 2022"
   ]
  },
  {
   "cell_type": "markdown",
   "metadata": {
    "id": "gWRSWHSi6gnz"
   },
   "source": [
    "### Import Paket Pandas dan Membaca Dataset\n",
    "Agar bisa menggunakan paket pandas kita  perlu melakukan import paket terlebih dahulu, dan kita dapar mengimpor pandas sebagai pd agar lebih singkat, numpy sebagai np. Kemudian dari sklearn.model_selection kita mengimport train_test_split untuk membagi dataset. Kita juga mengimpor accuracy_score dari sklearn.metrics, MinMaxScaler dan LabelEncoder dari sklearn.preprocessing, serta Sequential, layers, dan callbacks dari tensorflow.keras. Setelah itu  kita deklarasikan DataFrame (df) dengan pd.read_csv untuk membaca file csv agar lebih mudah dan efisien."
   ]
  },
  {
   "cell_type": "code",
   "execution_count": 351,
   "metadata": {
    "executionInfo": {
     "elapsed": 1821,
     "status": "ok",
     "timestamp": 1697351552742,
     "user": {
      "displayName": "Aldi Solihin",
      "userId": "13979428861752166712"
     },
     "user_tz": -480
    },
    "id": "XIAFFAcv6gn0"
   },
   "outputs": [],
   "source": [
    "import pandas as pd\n",
    "import numpy as  np\n",
    "from sklearn.model_selection import train_test_split\n",
    "from sklearn.metrics import accuracy_score\n",
    "from sklearn.preprocessing import MinMaxScaler, LabelEncoder\n",
    "from tensorflow.keras import Sequential, layers, callbacks"
   ]
  },
  {
   "cell_type": "code",
   "execution_count": 352,
   "metadata": {
    "colab": {
     "base_uri": "https://localhost:8080/",
     "height": 226
    },
    "executionInfo": {
     "elapsed": 12,
     "status": "ok",
     "timestamp": 1697351552743,
     "user": {
      "displayName": "Aldi Solihin",
      "userId": "13979428861752166712"
     },
     "user_tz": -480
    },
    "id": "WBIuoBzt6gn1",
    "outputId": "00692440-8191-48d8-f441-d782a8742f1d"
   },
   "outputs": [
    {
     "data": {
      "text/html": [
       "<div>\n",
       "<style scoped>\n",
       "    .dataframe tbody tr th:only-of-type {\n",
       "        vertical-align: middle;\n",
       "    }\n",
       "\n",
       "    .dataframe tbody tr th {\n",
       "        vertical-align: top;\n",
       "    }\n",
       "\n",
       "    .dataframe thead th {\n",
       "        text-align: right;\n",
       "    }\n",
       "</style>\n",
       "<table border=\"1\" class=\"dataframe\">\n",
       "  <thead>\n",
       "    <tr style=\"text-align: right;\">\n",
       "      <th></th>\n",
       "      <th>squareMeters</th>\n",
       "      <th>numberOfRooms</th>\n",
       "      <th>hasYard</th>\n",
       "      <th>hasPool</th>\n",
       "      <th>floors</th>\n",
       "      <th>cityCode</th>\n",
       "      <th>cityPartRange</th>\n",
       "      <th>numPrevOwners</th>\n",
       "      <th>made</th>\n",
       "      <th>isNewBuilt</th>\n",
       "      <th>hasStormProtector</th>\n",
       "      <th>basement</th>\n",
       "      <th>attic</th>\n",
       "      <th>garage</th>\n",
       "      <th>hasStorageRoom</th>\n",
       "      <th>hasGuestRoom</th>\n",
       "      <th>price</th>\n",
       "      <th>category</th>\n",
       "    </tr>\n",
       "  </thead>\n",
       "  <tbody>\n",
       "    <tr>\n",
       "      <th>0</th>\n",
       "      <td>NaN</td>\n",
       "      <td>3</td>\n",
       "      <td>0</td>\n",
       "      <td>1</td>\n",
       "      <td>63</td>\n",
       "      <td>9373</td>\n",
       "      <td>3</td>\n",
       "      <td>8</td>\n",
       "      <td>2005</td>\n",
       "      <td>0</td>\n",
       "      <td>1</td>\n",
       "      <td>4313</td>\n",
       "      <td>9005</td>\n",
       "      <td>956</td>\n",
       "      <td>0</td>\n",
       "      <td>7</td>\n",
       "      <td>7559081.5</td>\n",
       "      <td>Basic</td>\n",
       "    </tr>\n",
       "    <tr>\n",
       "      <th>1</th>\n",
       "      <td>80771.0</td>\n",
       "      <td>39</td>\n",
       "      <td>1</td>\n",
       "      <td>1</td>\n",
       "      <td>98</td>\n",
       "      <td>39381</td>\n",
       "      <td>8</td>\n",
       "      <td>6</td>\n",
       "      <td>2015</td>\n",
       "      <td>1</td>\n",
       "      <td>0</td>\n",
       "      <td>3653</td>\n",
       "      <td>2436</td>\n",
       "      <td>128</td>\n",
       "      <td>1</td>\n",
       "      <td>2</td>\n",
       "      <td>8085989.5</td>\n",
       "      <td>NaN</td>\n",
       "    </tr>\n",
       "    <tr>\n",
       "      <th>2</th>\n",
       "      <td>55712.0</td>\n",
       "      <td>58</td>\n",
       "      <td>0</td>\n",
       "      <td>1</td>\n",
       "      <td>19</td>\n",
       "      <td>34457</td>\n",
       "      <td>6</td>\n",
       "      <td>8</td>\n",
       "      <td>2021</td>\n",
       "      <td>0</td>\n",
       "      <td>0</td>\n",
       "      <td>2937</td>\n",
       "      <td>8852</td>\n",
       "      <td>135</td>\n",
       "      <td>1</td>\n",
       "      <td>9</td>\n",
       "      <td>5574642.1</td>\n",
       "      <td>Basic</td>\n",
       "    </tr>\n",
       "    <tr>\n",
       "      <th>3</th>\n",
       "      <td>32316.0</td>\n",
       "      <td>47</td>\n",
       "      <td>0</td>\n",
       "      <td>0</td>\n",
       "      <td>6</td>\n",
       "      <td>27939</td>\n",
       "      <td>10</td>\n",
       "      <td>4</td>\n",
       "      <td>2012</td>\n",
       "      <td>0</td>\n",
       "      <td>1</td>\n",
       "      <td>659</td>\n",
       "      <td>7141</td>\n",
       "      <td>359</td>\n",
       "      <td>0</td>\n",
       "      <td>3</td>\n",
       "      <td>3232561.2</td>\n",
       "      <td>Basic</td>\n",
       "    </tr>\n",
       "    <tr>\n",
       "      <th>4</th>\n",
       "      <td>70429.0</td>\n",
       "      <td>19</td>\n",
       "      <td>1</td>\n",
       "      <td>1</td>\n",
       "      <td>90</td>\n",
       "      <td>38045</td>\n",
       "      <td>3</td>\n",
       "      <td>7</td>\n",
       "      <td>1990</td>\n",
       "      <td>1</td>\n",
       "      <td>0</td>\n",
       "      <td>8435</td>\n",
       "      <td>2429</td>\n",
       "      <td>292</td>\n",
       "      <td>1</td>\n",
       "      <td>4</td>\n",
       "      <td>7055052.0</td>\n",
       "      <td>NaN</td>\n",
       "    </tr>\n",
       "  </tbody>\n",
       "</table>\n",
       "</div>"
      ],
      "text/plain": [
       "   squareMeters  numberOfRooms  hasYard  hasPool  floors  cityCode  \\\n",
       "0           NaN              3        0        1      63      9373   \n",
       "1       80771.0             39        1        1      98     39381   \n",
       "2       55712.0             58        0        1      19     34457   \n",
       "3       32316.0             47        0        0       6     27939   \n",
       "4       70429.0             19        1        1      90     38045   \n",
       "\n",
       "   cityPartRange  numPrevOwners  made  isNewBuilt  hasStormProtector  \\\n",
       "0              3              8  2005           0                  1   \n",
       "1              8              6  2015           1                  0   \n",
       "2              6              8  2021           0                  0   \n",
       "3             10              4  2012           0                  1   \n",
       "4              3              7  1990           1                  0   \n",
       "\n",
       "   basement  attic  garage  hasStorageRoom  hasGuestRoom      price category  \n",
       "0      4313   9005     956               0             7  7559081.5    Basic  \n",
       "1      3653   2436     128               1             2  8085989.5      NaN  \n",
       "2      2937   8852     135               1             9  5574642.1    Basic  \n",
       "3       659   7141     359               0             3  3232561.2    Basic  \n",
       "4      8435   2429     292               1             4  7055052.0      NaN  "
      ]
     },
     "execution_count": 352,
     "metadata": {},
     "output_type": "execute_result"
    }
   ],
   "source": [
    "df = pd.read_csv('ParisHousingClassNULL.csv')\n",
    "df.head()"
   ]
  },
  {
   "cell_type": "markdown",
   "metadata": {
    "id": "uiMlbmYO6gn3"
   },
   "source": [
    "## Data Cleaning  \n",
    "Data Cleaning adalah proses mempersiapkan data untuk analisis dengan menghapus atau memodifikasi data yang tidak benar, tidak lengkap, tidak relevan, diduplikasi, atau diformat dengan tidak benar.\n",
    "### Data dengan nilai NULL\n",
    "Pada bagian ini saya akan menangani nilai null dengan melakukan subsitusi nilai. Langkah pertama kita perlu mengimport SimpleImputer dari sklearn.impute terlebih dahulu. Dan mengecek nilai NULL pada data."
   ]
  },
  {
   "cell_type": "code",
   "execution_count": 353,
   "metadata": {
    "executionInfo": {
     "elapsed": 10,
     "status": "ok",
     "timestamp": 1697351552744,
     "user": {
      "displayName": "Aldi Solihin",
      "userId": "13979428861752166712"
     },
     "user_tz": -480
    },
    "id": "R64RFyF36gn3"
   },
   "outputs": [],
   "source": [
    "from sklearn.impute import SimpleImputer"
   ]
  },
  {
   "cell_type": "code",
   "execution_count": 354,
   "metadata": {
    "colab": {
     "base_uri": "https://localhost:8080/"
    },
    "executionInfo": {
     "elapsed": 10,
     "status": "ok",
     "timestamp": 1697351552744,
     "user": {
      "displayName": "Aldi Solihin",
      "userId": "13979428861752166712"
     },
     "user_tz": -480
    },
    "id": "N-tw6KaG6gn4",
    "outputId": "b6bc9d4a-eaea-4951-e7b6-bc02b00ae6a1"
   },
   "outputs": [
    {
     "data": {
      "text/plain": [
       "squareMeters         17\n",
       "numberOfRooms         0\n",
       "hasYard               0\n",
       "hasPool               0\n",
       "floors                0\n",
       "cityCode              0\n",
       "cityPartRange         0\n",
       "numPrevOwners         0\n",
       "made                  0\n",
       "isNewBuilt            0\n",
       "hasStormProtector     0\n",
       "basement              0\n",
       "attic                 0\n",
       "garage                0\n",
       "hasStorageRoom        0\n",
       "hasGuestRoom          0\n",
       "price                10\n",
       "category             67\n",
       "dtype: int64"
      ]
     },
     "execution_count": 354,
     "metadata": {},
     "output_type": "execute_result"
    }
   ],
   "source": [
    "# Mengecek Nilai NULL / yang kosong\n",
    "df.isna().sum()"
   ]
  },
  {
   "cell_type": "markdown",
   "metadata": {
    "id": "jf5bCemC6gn5"
   },
   "source": [
    "### Pada bagian ini kita akan mensubsitusikan nilai NULL dengan median, mean, dan modus data.\n",
    "Pertama kita deklarasikan si_median dengan strategy median, kemudian deklarasikan df dengan kolom yang akan kita subsitusikan nilai NULL nya contoh 'squareMeters' dan nilai null diisi dengan median dari kolom 'squareMeters'. Pada bagian ini saya menggunakan astype(\"int64\") karena tipe data awal 'squareMeters' adalah integer, karena ada data yang kosong / bernilai null jadi tipe data berubah ke float, sehingga kita harus mengembalikan dengan menggunakan astype."
   ]
  },
  {
   "cell_type": "code",
   "execution_count": 355,
   "metadata": {
    "executionInfo": {
     "elapsed": 512,
     "status": "ok",
     "timestamp": 1697351553248,
     "user": {
      "displayName": "Aldi Solihin",
      "userId": "13979428861752166712"
     },
     "user_tz": -480
    },
    "id": "RiXUfL0w6gn5"
   },
   "outputs": [],
   "source": [
    "si_median = SimpleImputer(strategy='median')\n",
    "df[['squareMeters']] = si_median.fit_transform(df[['squareMeters']]).astype(\"int64\")"
   ]
  },
  {
   "cell_type": "code",
   "execution_count": 356,
   "metadata": {
    "executionInfo": {
     "elapsed": 11,
     "status": "ok",
     "timestamp": 1697351553248,
     "user": {
      "displayName": "Aldi Solihin",
      "userId": "13979428861752166712"
     },
     "user_tz": -480
    },
    "id": "F9J3vAZq6gn6"
   },
   "outputs": [],
   "source": [
    "si_mean = SimpleImputer(strategy='mean')\n",
    "df[['price']] = si_mean.fit_transform(df[['price']])"
   ]
  },
  {
   "cell_type": "code",
   "execution_count": 357,
   "metadata": {
    "executionInfo": {
     "elapsed": 10,
     "status": "ok",
     "timestamp": 1697351553248,
     "user": {
      "displayName": "Aldi Solihin",
      "userId": "13979428861752166712"
     },
     "user_tz": -480
    },
    "id": "BvUCGpya6gn7"
   },
   "outputs": [],
   "source": [
    "si_modus = SimpleImputer(strategy='most_frequent')\n",
    "df[['category']] = si_modus.fit_transform(df[['category']])"
   ]
  },
  {
   "cell_type": "markdown",
   "metadata": {
    "id": "ruPPFpbV6gn7"
   },
   "source": [
    "Setelah dilakukan subsitsi nilai, kita mengecek lagi apakah sudah tidak ada nilai NULL pada dataset."
   ]
  },
  {
   "cell_type": "code",
   "execution_count": 358,
   "metadata": {
    "colab": {
     "base_uri": "https://localhost:8080/"
    },
    "executionInfo": {
     "elapsed": 11,
     "status": "ok",
     "timestamp": 1697351553249,
     "user": {
      "displayName": "Aldi Solihin",
      "userId": "13979428861752166712"
     },
     "user_tz": -480
    },
    "id": "3_YGX0Oh6gn8",
    "outputId": "8177ca4b-404a-48d7-dc5f-57480104a9d9",
    "scrolled": true
   },
   "outputs": [
    {
     "data": {
      "text/plain": [
       "squareMeters         0\n",
       "numberOfRooms        0\n",
       "hasYard              0\n",
       "hasPool              0\n",
       "floors               0\n",
       "cityCode             0\n",
       "cityPartRange        0\n",
       "numPrevOwners        0\n",
       "made                 0\n",
       "isNewBuilt           0\n",
       "hasStormProtector    0\n",
       "basement             0\n",
       "attic                0\n",
       "garage               0\n",
       "hasStorageRoom       0\n",
       "hasGuestRoom         0\n",
       "price                0\n",
       "category             0\n",
       "dtype: int64"
      ]
     },
     "execution_count": 358,
     "metadata": {},
     "output_type": "execute_result"
    }
   ],
   "source": [
    "df.isna().sum()"
   ]
  },
  {
   "cell_type": "markdown",
   "metadata": {
    "id": "j2qIyzu26gn8"
   },
   "source": [
    "### Data dengan nilai duplikat\n",
    "Tahap pertama kita akan mengecek data yang duplikat dengan df.duplicated().sum() yang akan menghitung berapa banyak data yang duplikat."
   ]
  },
  {
   "cell_type": "code",
   "execution_count": 359,
   "metadata": {
    "colab": {
     "base_uri": "https://localhost:8080/"
    },
    "executionInfo": {
     "elapsed": 9,
     "status": "ok",
     "timestamp": 1697351553249,
     "user": {
      "displayName": "Aldi Solihin",
      "userId": "13979428861752166712"
     },
     "user_tz": -480
    },
    "id": "UHntPh0G6gn9",
    "outputId": "aca0bc0a-6958-4680-da07-279fdc45ecef"
   },
   "outputs": [
    {
     "data": {
      "text/plain": [
       "2"
      ]
     },
     "execution_count": 359,
     "metadata": {},
     "output_type": "execute_result"
    }
   ],
   "source": [
    "df.duplicated().sum()"
   ]
  },
  {
   "cell_type": "code",
   "execution_count": 360,
   "metadata": {
    "executionInfo": {
     "elapsed": 8,
     "status": "ok",
     "timestamp": 1697351553249,
     "user": {
      "displayName": "Aldi Solihin",
      "userId": "13979428861752166712"
     },
     "user_tz": -480
    },
    "id": "PbDzVzwm6gn9"
   },
   "outputs": [],
   "source": [
    "df.drop_duplicates(inplace=True)"
   ]
  },
  {
   "cell_type": "markdown",
   "metadata": {},
   "source": [
    "### Melakukan Train Split Data"
   ]
  },
  {
   "cell_type": "code",
   "execution_count": 361,
   "metadata": {
    "executionInfo": {
     "elapsed": 7,
     "status": "ok",
     "timestamp": 1697351553249,
     "user": {
      "displayName": "Aldi Solihin",
      "userId": "13979428861752166712"
     },
     "user_tz": -480
    },
    "id": "6iewZ2M36gn-"
   },
   "outputs": [],
   "source": [
    "X = df.drop(['category'], axis=1)\n",
    "y = df['category']\n",
    "\n",
    "X_train, X_test, Y_train, Y_test = train_test_split(X,y, test_size=0.2, random_state=42)"
   ]
  },
  {
   "cell_type": "markdown",
   "metadata": {},
   "source": [
    "`X = df.drop(['category'], axis=1)` : Perintah ini mendeklarasikan variabel X, yang berisi DataFrame 'df' setelah menghapus kolom 'category' dengan menggunakan metode 'drop'.\n",
    "\n",
    "`y = df['category']` : Perintah ini mendeklarasikan variabel y, yang berisi label atau target klasifikasi dari DataFrame 'df', yaitu kolom 'category'.\n",
    "\n",
    "`X_train, X_test, Y_train, Y_test = train_test_split(X, y, test_size=0.2, random_state=42)` : Perintah Ini menggunakan fungsi 'train_test_split' dari Scikit-Learn untuk membagi data menjadi data pelatihan dan data pengujian. Data 'X' dan 'y' dibagi menjadi 'X_train' (fitur pelatihan), 'X_test' (fitur pengujian), 'Y_train' (label pelatihan), dan 'Y_test' (label pengujian). Parameter 'test_size=0.2' menunjukkan bahwa 20% dari data akan digunakan sebagai data pengujian. 'random_state=42' digunakan untuk mengatur seed agar hasil pemisahan data dapat direproduksi."
   ]
  },
  {
   "cell_type": "markdown",
   "metadata": {
    "id": "7idIRUMWB_t7"
   },
   "source": [
    "### Scaling data dengan MinMaxScaler dan Label Encoding"
   ]
  },
  {
   "cell_type": "code",
   "execution_count": 362,
   "metadata": {
    "executionInfo": {
     "elapsed": 6,
     "status": "ok",
     "timestamp": 1697351553250,
     "user": {
      "displayName": "Aldi Solihin",
      "userId": "13979428861752166712"
     },
     "user_tz": -480
    },
    "id": "zHh5YGcfCDlm"
   },
   "outputs": [],
   "source": [
    "mm = MinMaxScaler()\n",
    "X_train = mm.fit_transform(X_train)\n",
    "X_test = mm.transform(X_test)"
   ]
  },
  {
   "cell_type": "code",
   "execution_count": 363,
   "metadata": {
    "executionInfo": {
     "elapsed": 427,
     "status": "ok",
     "timestamp": 1697351553671,
     "user": {
      "displayName": "Aldi Solihin",
      "userId": "13979428861752166712"
     },
     "user_tz": -480
    },
    "id": "Hye2iujgCHzq"
   },
   "outputs": [],
   "source": [
    "le = LabelEncoder()\n",
    "le.fit(Y_train)\n",
    "Y_train = le.transform(Y_train)\n",
    "\n",
    "Y_test = le.transform(Y_test)"
   ]
  },
  {
   "cell_type": "markdown",
   "metadata": {
    "id": "cE5vamPODAl1"
   },
   "source": [
    "# 1. Sequential Model"
   ]
  },
  {
   "cell_type": "code",
   "execution_count": 364,
   "metadata": {},
   "outputs": [
    {
     "data": {
      "text/plain": [
       "(8000, 17)"
      ]
     },
     "execution_count": 364,
     "metadata": {},
     "output_type": "execute_result"
    }
   ],
   "source": [
    "X_train.shape"
   ]
  },
  {
   "cell_type": "markdown",
   "metadata": {},
   "source": [
    "Bagian diatas digunakan untuk mengetahui shape dari X_train yang kemudian akan digunakan pada Sequential model tepatnya pada input_shape"
   ]
  },
  {
   "cell_type": "code",
   "execution_count": 365,
   "metadata": {},
   "outputs": [],
   "source": [
    "model = Sequential([\n",
    "    layers.Dense(16, activation='relu', input_shape=[17]),\n",
    "    layers.Dense(1, activation='sigmoid')\n",
    "])\n",
    "\n",
    "model.compile(optimizer='adam',\n",
    "              loss='binary_crossentropy',\n",
    "              metrics=['accuracy'])"
   ]
  },
  {
   "cell_type": "markdown",
   "metadata": {},
   "source": [
    "`model = Sequential([...])` : Perintah Ini mendefinisikan model jaringan saraf tiruan sebagai urutan lapisan (layers) dengan menggunakan Sequential. Model ini terdiri dari dua lapisan Dense.\n",
    "\n",
    "`layers.Dense(16, activation='relu', input_shape=[17])` : Lapisan pertama terdiri dari 16 neuron (unit) dengan fungsi aktivasi ReLU (Rectified Linear Unit) dan menerima input dengan bentuk 17. Ini adalah lapisan input.\n",
    "\n",
    "`layers.Dense(1, activation='sigmoid')` : Lapisan ketiga terdiri dari satu neuron dengan aktivasi sigmoid. Ini adalah lapisan output yang menghasilkan output dalam bentuk probabilitas (untuk klasifikasi biner).\n",
    "\n",
    "`model.compile(...)` : Perintah ini mengompilasi model. Parameter 'optimizer' disetel sebagai 'adam' yang merupakan algoritma optimasi yang umum digunakan. 'loss' diatur sebagai 'binary_crossentropy' yang sesuai untuk masalah klasifikasi biner. 'metrics' = ['accuracy'] untuk memonitor akurasi selama pelatihan."
   ]
  },
  {
   "cell_type": "code",
   "execution_count": 366,
   "metadata": {},
   "outputs": [],
   "source": [
    "es = callbacks.EarlyStopping(\n",
    "    monitor = 'val_accuracy',\n",
    "    patience = 5,\n",
    "    verbose = 1,\n",
    "    restore_best_weights = True\n",
    ")"
   ]
  },
  {
   "cell_type": "markdown",
   "metadata": {},
   "source": [
    "`callbacks.EarlyStopping` : Perintah callbacks digunakan untuk menerapkan melakukan pemberhentian epochs selama pelatihan model.\n",
    "\n",
    "`monitor = 'val_accuracy'` : Perintah ini mengatur parameter yang dimonitor selama pelatihan, dalam hal ini, akurasi validasi (validation accuracy). Pelatihan akan berhenti jika akurasi validasi tidak meningkat.\n",
    "\n",
    "`patience = 5`: Adalah jumlah epoch yang harus dilewati, jika tidak ada peningkatan dalam metrik yang dimonitor sebelum pelatihan dihentikan. Dalam hal ini, pelatihan akan berhenti setelah 5 epoch tanpa peningkatan akurasi validasi.\n",
    "\n",
    "`verbose = 1` : Verbose mengatur tingkat verbosity selama pelatihan. Jika diatur sebagai 1, akan mencetak pesan saat train dihentikan.\n",
    "\n",
    "`restore_best_weights = True` : Jika diatur sebagai `True`, bagian ini akan mengembalikan weights model ke bobot terbaik yang ditemukan selama pelatihan ketika callbacks terjadi. Ini membantu untuk mempertahankan model dengan kinerja terbaik."
   ]
  },
  {
   "cell_type": "code",
   "execution_count": 367,
   "metadata": {},
   "outputs": [
    {
     "name": "stdout",
     "output_type": "stream",
     "text": [
      "Epoch 1/50\n"
     ]
    },
    {
     "name": "stdout",
     "output_type": "stream",
     "text": [
      "200/200 [==============================] - 1s 3ms/step - loss: 0.4308 - accuracy: 0.8669 - val_loss: 0.3491 - val_accuracy: 0.8731\n",
      "Epoch 2/50\n",
      "200/200 [==============================] - 0s 2ms/step - loss: 0.2848 - accuracy: 0.8783 - val_loss: 0.2485 - val_accuracy: 0.8844\n",
      "Epoch 3/50\n",
      "200/200 [==============================] - 0s 2ms/step - loss: 0.2058 - accuracy: 0.9127 - val_loss: 0.1859 - val_accuracy: 0.9362\n",
      "Epoch 4/50\n",
      "200/200 [==============================] - 0s 2ms/step - loss: 0.1563 - accuracy: 0.9505 - val_loss: 0.1482 - val_accuracy: 0.9463\n",
      "Epoch 5/50\n",
      "200/200 [==============================] - 0s 2ms/step - loss: 0.1250 - accuracy: 0.9645 - val_loss: 0.1217 - val_accuracy: 0.9663\n",
      "Epoch 6/50\n",
      "200/200 [==============================] - 0s 2ms/step - loss: 0.1031 - accuracy: 0.9755 - val_loss: 0.1029 - val_accuracy: 0.9706\n",
      "Epoch 7/50\n",
      "200/200 [==============================] - 0s 2ms/step - loss: 0.0866 - accuracy: 0.9833 - val_loss: 0.0879 - val_accuracy: 0.9781\n",
      "Epoch 8/50\n",
      "200/200 [==============================] - 0s 2ms/step - loss: 0.0727 - accuracy: 0.9878 - val_loss: 0.0751 - val_accuracy: 0.9856\n",
      "Epoch 9/50\n",
      "200/200 [==============================] - 0s 2ms/step - loss: 0.0614 - accuracy: 0.9912 - val_loss: 0.0643 - val_accuracy: 0.9894\n",
      "Epoch 10/50\n",
      "200/200 [==============================] - 0s 2ms/step - loss: 0.0518 - accuracy: 0.9930 - val_loss: 0.0552 - val_accuracy: 0.9906\n",
      "Epoch 11/50\n",
      "200/200 [==============================] - 0s 2ms/step - loss: 0.0437 - accuracy: 0.9952 - val_loss: 0.0489 - val_accuracy: 0.9906\n",
      "Epoch 12/50\n",
      "200/200 [==============================] - 0s 2ms/step - loss: 0.0371 - accuracy: 0.9962 - val_loss: 0.0412 - val_accuracy: 0.9950\n",
      "Epoch 13/50\n",
      "200/200 [==============================] - 0s 2ms/step - loss: 0.0318 - accuracy: 0.9973 - val_loss: 0.0365 - val_accuracy: 0.9950\n",
      "Epoch 14/50\n",
      "200/200 [==============================] - 0s 2ms/step - loss: 0.0278 - accuracy: 0.9975 - val_loss: 0.0323 - val_accuracy: 0.9962\n",
      "Epoch 15/50\n",
      "200/200 [==============================] - 0s 2ms/step - loss: 0.0244 - accuracy: 0.9978 - val_loss: 0.0292 - val_accuracy: 0.9969\n",
      "Epoch 16/50\n",
      "200/200 [==============================] - 0s 2ms/step - loss: 0.0218 - accuracy: 0.9978 - val_loss: 0.0266 - val_accuracy: 0.9969\n",
      "Epoch 17/50\n",
      "200/200 [==============================] - 0s 2ms/step - loss: 0.0197 - accuracy: 0.9978 - val_loss: 0.0247 - val_accuracy: 0.9969\n",
      "Epoch 18/50\n",
      "200/200 [==============================] - 0s 2ms/step - loss: 0.0181 - accuracy: 0.9978 - val_loss: 0.0231 - val_accuracy: 0.9969\n",
      "Epoch 19/50\n",
      "200/200 [==============================] - 0s 2ms/step - loss: 0.0168 - accuracy: 0.9978 - val_loss: 0.0220 - val_accuracy: 0.9969\n",
      "Epoch 20/50\n",
      "171/200 [========================>.....] - ETA: 0s - loss: 0.0154 - accuracy: 0.9980Restoring model weights from the end of the best epoch: 15.\n",
      "200/200 [==============================] - 0s 2ms/step - loss: 0.0158 - accuracy: 0.9978 - val_loss: 0.0210 - val_accuracy: 0.9969\n",
      "Epoch 20: early stopping\n"
     ]
    }
   ],
   "source": [
    "history = model.fit(X_train, Y_train, epochs = 50,validation_split=0.2, callbacks=[es])"
   ]
  },
  {
   "cell_type": "code",
   "execution_count": 368,
   "metadata": {},
   "outputs": [
    {
     "name": "stdout",
     "output_type": "stream",
     "text": [
      "63/63 [==============================] - 0s 1ms/step\n"
     ]
    }
   ],
   "source": [
    "y_pred = model.predict(X_test)"
   ]
  },
  {
   "cell_type": "markdown",
   "metadata": {},
   "source": [
    "## Evaluasi Model"
   ]
  },
  {
   "cell_type": "code",
   "execution_count": 369,
   "metadata": {},
   "outputs": [
    {
     "name": "stdout",
     "output_type": "stream",
     "text": [
      "63/63 [==============================] - 0s 1ms/step - loss: 0.0306 - accuracy: 0.9950\n"
     ]
    },
    {
     "data": {
      "text/plain": [
       "[0.03062623366713524, 0.9950000047683716]"
      ]
     },
     "execution_count": 369,
     "metadata": {},
     "output_type": "execute_result"
    }
   ],
   "source": [
    "model.evaluate(X_test, Y_test)"
   ]
  },
  {
   "cell_type": "markdown",
   "metadata": {},
   "source": [
    "Pada hasil evaluasi model diatas kita mendapatkan angka loss yaitu 0.0306 dan akurasi 0.9950"
   ]
  },
  {
   "cell_type": "markdown",
   "metadata": {},
   "source": [
    "## Skor Akurasi"
   ]
  },
  {
   "cell_type": "code",
   "execution_count": 370,
   "metadata": {},
   "outputs": [],
   "source": [
    "y_pred = np.where(y_pred > 0.5, 1, 0).reshape(-1)"
   ]
  },
  {
   "cell_type": "markdown",
   "metadata": {},
   "source": [
    "`y_pred` : Adalah matriks yang berisi probabilitas prediksi dari model. Biasanya, ini adalah output dari lapisan sigmoid pada model klasifikasi biner, yang menghasilkan probabilitas kelas positif.\n",
    "\n",
    "`np.where(y_pred > 0.5, 1, 0)` : Kita menggunakan NumPy untuk mengubah probabilitas menjadi label biner. Jika probabilitas di atas 0.5, maka nilai diubah menjadi 1; jika probabilitas di bawah atau sama dengan 0.5, maka nilai diubah menjadi 0. Hasilnya adalah array yang berisi label biner.\n",
    "\n",
    "`.reshape(-1)` : Perintah ini digunakan untuk mengubah bentuk array hasil sehingga menjadi satu dimensi."
   ]
  },
  {
   "cell_type": "code",
   "execution_count": null,
   "metadata": {},
   "outputs": [],
   "source": [
    "accuracy_score(Y_test, y_pred)"
   ]
  },
  {
   "cell_type": "markdown",
   "metadata": {},
   "source": [
    "## Grafik\n",
    "### 1. Model Accuracy "
   ]
  },
  {
   "cell_type": "code",
   "execution_count": 375,
   "metadata": {},
   "outputs": [
    {
     "data": {
      "image/png": "[encoded data removed]",
      "text/plain": [
       "<Figure size 640x480 with 1 Axes>"
      ]
     },
     "metadata": {},
     "output_type": "display_data"
    }
   ],
   "source": [
    "import matplotlib.pyplot as plt\n",
    "\n",
    "plt.title(\"Model Accuracy\")\n",
    "plt.plot(history.history['accuracy'])\n",
    "plt.plot(history.history['val_accuracy'])\n",
    "plt.xlabel('Epoch')\n",
    "plt.ylabel('Accuracy')\n",
    "plt.legend(['Training','Validation'])\n",
    "plt.show()"
   ]
  },
  {
   "cell_type": "markdown",
   "metadata": {},
   "source": [
    "Pada grafik akurasi diatas garis berwarna biru (Training) mewakili bagaimana akurasi model berkembang seiring dengan meningkatnya jumlah epoch. Semakin tinggi garis tersebut, semakin baik kinerja model pada data pelatihan.\n",
    "\n",
    "Garis berwarna oranye (Validation) menggambarkan akurasi model pada set data validasi. Garis ini mencerminkan sejauh mana model umumnya mampu melakukan generalisasi pada data yang belum pernah dilihat sebelumnya. Jika garis ini mengikuti atau mendekati garis akurasi pelatihan artinya hasil validasi memiliki indikasi yang baik. "
   ]
  },
  {
   "cell_type": "markdown",
   "metadata": {},
   "source": [
    "### 2. Model Loss"
   ]
  },
  {
   "cell_type": "code",
   "execution_count": 376,
   "metadata": {},
   "outputs": [
    {
     "data": {
      "image/png": "[encoded data removed]",
      "text/plain": [
       "<Figure size 640x480 with 1 Axes>"
      ]
     },
     "metadata": {},
     "output_type": "display_data"
    }
   ],
   "source": [
    "plt.title(\"Model Loss\")\n",
    "plt.plot(history.history['loss'])\n",
    "plt.plot(history.history['val_loss'])\n",
    "plt.xlabel('Epoch')\n",
    "plt.ylabel('Loss')\n",
    "plt.legend(['Training','Validation'])\n",
    "plt.show()"
   ]
  },
  {
   "cell_type": "markdown",
   "metadata": {},
   "source": [
    "Pada grafik model loss diatas garis berwarna biru (Training) menggambarkan loss model pada set data pelatihan. Garis ini mewakili bagaimana loss model berkembang seiring dengan meningkatnya jumlah epoch. Semakin rendah garis tersebut, semakin baik kinerja model pada data pelatihan.\n",
    "\n",
    "Garis berwarna oranye (Validation) menggambarkan loss model pada set data validasi. Garis ini mencerminkan sejauh mana model umumnya mampu melakukan generalisasi pada data yang belum pernah dilihat sebelumnya. Jika garis ini mengikuti garis loss pelatihan, itu adalah indikasi baik, tetapi jika garis ini mulai meningkat, itu bisa menjadi tanda overfitting."
   ]
  }
 ],
 "metadata": {
  "colab": {
   "provenance": []
  },
  "kernelspec": {
   "display_name": "Python 3 (ipykernel)",
   "language": "python",
   "name": "python3"
  },
  "language_info": {
   "codemirror_mode": {
    "name": "ipython",
    "version": 3
   },
   "file_extension": ".py",
   "mimetype": "text/x-python",
   "name": "python",
   "nbconvert_exporter": "python",
   "pygments_lexer": "ipython3",
   "version": "3.10.7"
  }
 },
 "nbformat": 4,
 "nbformat_minor": 4
}
